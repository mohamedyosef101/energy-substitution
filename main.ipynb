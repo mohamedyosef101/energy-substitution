{
 "cells": [
  {
   "cell_type": "markdown",
   "metadata": {},
   "source": [
    "# Global energy consumption\n",
    "The energy system has transformed dramatically since the Industrial Revolution. We see this transformation of the global energy supply in the interactive chart shown here. It graphs global energy consumption from 1800 onwards."
   ]
  },
  {
   "cell_type": "markdown",
   "metadata": {},
   "source": [
    "<hr>\n",
    "\n",
    "# Step 0: set it up\n",
    "I usually do this through 3 easy steps:\n",
    "* Import the libraries\n",
    "* Load the data\n",
    "* Customize the view"
   ]
  },
  {
   "cell_type": "code",
   "execution_count": null,
   "metadata": {},
   "outputs": [],
   "source": [
    "# import the libraries\n",
    "import pandas as pd\n",
    "import numpy as np\n",
    "import matplotlib.pyplot as plt\n",
    "import seaborn as sns\n",
    "\n",
    "# load the data\n",
    "\n",
    "\n",
    "\n",
    "# customize the view"
   ]
  }
 ],
 "metadata": {
  "language_info": {
   "name": "python"
  },
  "orig_nbformat": 4
 },
 "nbformat": 4,
 "nbformat_minor": 2
}
